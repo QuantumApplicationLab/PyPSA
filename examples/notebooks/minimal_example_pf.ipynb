{
 "cells": [
  {
   "cell_type": "markdown",
   "metadata": {},
   "source": [
    "# Minimal three node network\n",
    "\n",
    "Here, we are going to create a network with three nodes, three lines and one generator. We then solve the non-linear power flow using a Newton-Raphson.  "
   ]
  },
  {
   "cell_type": "code",
   "execution_count": 1,
   "metadata": {},
   "outputs": [],
   "source": [
    "import pypsa\n",
    "import numpy as np"
   ]
  },
  {
   "cell_type": "code",
   "execution_count": 2,
   "metadata": {},
   "outputs": [],
   "source": [
    "network = pypsa.Network()"
   ]
  },
  {
   "cell_type": "markdown",
   "metadata": {},
   "source": [
    "Add three buses"
   ]
  },
  {
   "cell_type": "code",
   "execution_count": 3,
   "metadata": {},
   "outputs": [
    {
     "data": {
      "text/html": [
       "<div>\n",
       "<style scoped>\n",
       "    .dataframe tbody tr th:only-of-type {\n",
       "        vertical-align: middle;\n",
       "    }\n",
       "\n",
       "    .dataframe tbody tr th {\n",
       "        vertical-align: top;\n",
       "    }\n",
       "\n",
       "    .dataframe thead th {\n",
       "        text-align: right;\n",
       "    }\n",
       "</style>\n",
       "<table border=\"1\" class=\"dataframe\">\n",
       "  <thead>\n",
       "    <tr style=\"text-align: right;\">\n",
       "      <th>attribute</th>\n",
       "      <th>v_nom</th>\n",
       "      <th>type</th>\n",
       "      <th>x</th>\n",
       "      <th>y</th>\n",
       "      <th>carrier</th>\n",
       "      <th>unit</th>\n",
       "      <th>v_mag_pu_set</th>\n",
       "      <th>v_mag_pu_min</th>\n",
       "      <th>v_mag_pu_max</th>\n",
       "      <th>control</th>\n",
       "      <th>generator</th>\n",
       "      <th>sub_network</th>\n",
       "    </tr>\n",
       "    <tr>\n",
       "      <th>Bus</th>\n",
       "      <th></th>\n",
       "      <th></th>\n",
       "      <th></th>\n",
       "      <th></th>\n",
       "      <th></th>\n",
       "      <th></th>\n",
       "      <th></th>\n",
       "      <th></th>\n",
       "      <th></th>\n",
       "      <th></th>\n",
       "      <th></th>\n",
       "      <th></th>\n",
       "    </tr>\n",
       "  </thead>\n",
       "  <tbody>\n",
       "    <tr>\n",
       "      <th>My bus 0</th>\n",
       "      <td>20.0</td>\n",
       "      <td></td>\n",
       "      <td>0.0</td>\n",
       "      <td>0.0</td>\n",
       "      <td>AC</td>\n",
       "      <td></td>\n",
       "      <td>1.0</td>\n",
       "      <td>0.0</td>\n",
       "      <td>inf</td>\n",
       "      <td>PQ</td>\n",
       "      <td></td>\n",
       "      <td></td>\n",
       "    </tr>\n",
       "    <tr>\n",
       "      <th>My bus 1</th>\n",
       "      <td>20.0</td>\n",
       "      <td></td>\n",
       "      <td>0.0</td>\n",
       "      <td>0.0</td>\n",
       "      <td>AC</td>\n",
       "      <td></td>\n",
       "      <td>1.0</td>\n",
       "      <td>0.0</td>\n",
       "      <td>inf</td>\n",
       "      <td>PQ</td>\n",
       "      <td></td>\n",
       "      <td></td>\n",
       "    </tr>\n",
       "    <tr>\n",
       "      <th>My bus 2</th>\n",
       "      <td>20.0</td>\n",
       "      <td></td>\n",
       "      <td>0.0</td>\n",
       "      <td>0.0</td>\n",
       "      <td>AC</td>\n",
       "      <td></td>\n",
       "      <td>1.0</td>\n",
       "      <td>0.0</td>\n",
       "      <td>inf</td>\n",
       "      <td>PQ</td>\n",
       "      <td></td>\n",
       "      <td></td>\n",
       "    </tr>\n",
       "  </tbody>\n",
       "</table>\n",
       "</div>"
      ],
      "text/plain": [
       "attribute  v_nom type    x    y carrier unit  v_mag_pu_set  v_mag_pu_min  \\\n",
       "Bus                                                                        \n",
       "My bus 0    20.0       0.0  0.0      AC                1.0           0.0   \n",
       "My bus 1    20.0       0.0  0.0      AC                1.0           0.0   \n",
       "My bus 2    20.0       0.0  0.0      AC                1.0           0.0   \n",
       "\n",
       "attribute  v_mag_pu_max control generator sub_network  \n",
       "Bus                                                    \n",
       "My bus 0            inf      PQ                        \n",
       "My bus 1            inf      PQ                        \n",
       "My bus 2            inf      PQ                        "
      ]
     },
     "execution_count": 3,
     "metadata": {},
     "output_type": "execute_result"
    }
   ],
   "source": [
    "n_buses = 3\n",
    "\n",
    "for i in range(n_buses):\n",
    "    network.add(\"Bus\", \"My bus {}\".format(i), v_nom=20.0)\n",
    "\n",
    "network.buses"
   ]
  },
  {
   "cell_type": "markdown",
   "metadata": {},
   "source": [
    "Add three lines in a ring"
   ]
  },
  {
   "cell_type": "code",
   "execution_count": 4,
   "metadata": {},
   "outputs": [
    {
     "data": {
      "text/html": [
       "<div>\n",
       "<style scoped>\n",
       "    .dataframe tbody tr th:only-of-type {\n",
       "        vertical-align: middle;\n",
       "    }\n",
       "\n",
       "    .dataframe tbody tr th {\n",
       "        vertical-align: top;\n",
       "    }\n",
       "\n",
       "    .dataframe thead th {\n",
       "        text-align: right;\n",
       "    }\n",
       "</style>\n",
       "<table border=\"1\" class=\"dataframe\">\n",
       "  <thead>\n",
       "    <tr style=\"text-align: right;\">\n",
       "      <th>attribute</th>\n",
       "      <th>bus0</th>\n",
       "      <th>bus1</th>\n",
       "      <th>type</th>\n",
       "      <th>x</th>\n",
       "      <th>r</th>\n",
       "      <th>g</th>\n",
       "      <th>b</th>\n",
       "      <th>s_nom</th>\n",
       "      <th>s_nom_extendable</th>\n",
       "      <th>s_nom_min</th>\n",
       "      <th>...</th>\n",
       "      <th>v_ang_min</th>\n",
       "      <th>v_ang_max</th>\n",
       "      <th>sub_network</th>\n",
       "      <th>x_pu</th>\n",
       "      <th>r_pu</th>\n",
       "      <th>g_pu</th>\n",
       "      <th>b_pu</th>\n",
       "      <th>x_pu_eff</th>\n",
       "      <th>r_pu_eff</th>\n",
       "      <th>s_nom_opt</th>\n",
       "    </tr>\n",
       "    <tr>\n",
       "      <th>Line</th>\n",
       "      <th></th>\n",
       "      <th></th>\n",
       "      <th></th>\n",
       "      <th></th>\n",
       "      <th></th>\n",
       "      <th></th>\n",
       "      <th></th>\n",
       "      <th></th>\n",
       "      <th></th>\n",
       "      <th></th>\n",
       "      <th></th>\n",
       "      <th></th>\n",
       "      <th></th>\n",
       "      <th></th>\n",
       "      <th></th>\n",
       "      <th></th>\n",
       "      <th></th>\n",
       "      <th></th>\n",
       "      <th></th>\n",
       "      <th></th>\n",
       "      <th></th>\n",
       "    </tr>\n",
       "  </thead>\n",
       "  <tbody>\n",
       "    <tr>\n",
       "      <th>My line 0</th>\n",
       "      <td>My bus 0</td>\n",
       "      <td>My bus 1</td>\n",
       "      <td></td>\n",
       "      <td>0.1</td>\n",
       "      <td>0.01</td>\n",
       "      <td>0.0</td>\n",
       "      <td>0.0</td>\n",
       "      <td>0.0</td>\n",
       "      <td>False</td>\n",
       "      <td>0.0</td>\n",
       "      <td>...</td>\n",
       "      <td>-inf</td>\n",
       "      <td>inf</td>\n",
       "      <td></td>\n",
       "      <td>0.0</td>\n",
       "      <td>0.0</td>\n",
       "      <td>0.0</td>\n",
       "      <td>0.0</td>\n",
       "      <td>0.0</td>\n",
       "      <td>0.0</td>\n",
       "      <td>0.0</td>\n",
       "    </tr>\n",
       "    <tr>\n",
       "      <th>My line 1</th>\n",
       "      <td>My bus 1</td>\n",
       "      <td>My bus 2</td>\n",
       "      <td></td>\n",
       "      <td>0.1</td>\n",
       "      <td>0.01</td>\n",
       "      <td>0.0</td>\n",
       "      <td>0.0</td>\n",
       "      <td>0.0</td>\n",
       "      <td>False</td>\n",
       "      <td>0.0</td>\n",
       "      <td>...</td>\n",
       "      <td>-inf</td>\n",
       "      <td>inf</td>\n",
       "      <td></td>\n",
       "      <td>0.0</td>\n",
       "      <td>0.0</td>\n",
       "      <td>0.0</td>\n",
       "      <td>0.0</td>\n",
       "      <td>0.0</td>\n",
       "      <td>0.0</td>\n",
       "      <td>0.0</td>\n",
       "    </tr>\n",
       "    <tr>\n",
       "      <th>My line 2</th>\n",
       "      <td>My bus 2</td>\n",
       "      <td>My bus 0</td>\n",
       "      <td></td>\n",
       "      <td>0.1</td>\n",
       "      <td>0.01</td>\n",
       "      <td>0.0</td>\n",
       "      <td>0.0</td>\n",
       "      <td>0.0</td>\n",
       "      <td>False</td>\n",
       "      <td>0.0</td>\n",
       "      <td>...</td>\n",
       "      <td>-inf</td>\n",
       "      <td>inf</td>\n",
       "      <td></td>\n",
       "      <td>0.0</td>\n",
       "      <td>0.0</td>\n",
       "      <td>0.0</td>\n",
       "      <td>0.0</td>\n",
       "      <td>0.0</td>\n",
       "      <td>0.0</td>\n",
       "      <td>0.0</td>\n",
       "    </tr>\n",
       "  </tbody>\n",
       "</table>\n",
       "<p>3 rows × 29 columns</p>\n",
       "</div>"
      ],
      "text/plain": [
       "attribute      bus0      bus1 type    x     r    g    b  s_nom  \\\n",
       "Line                                                             \n",
       "My line 0  My bus 0  My bus 1       0.1  0.01  0.0  0.0    0.0   \n",
       "My line 1  My bus 1  My bus 2       0.1  0.01  0.0  0.0    0.0   \n",
       "My line 2  My bus 2  My bus 0       0.1  0.01  0.0  0.0    0.0   \n",
       "\n",
       "attribute  s_nom_extendable  s_nom_min  ...  v_ang_min  v_ang_max  \\\n",
       "Line                                    ...                         \n",
       "My line 0             False        0.0  ...       -inf        inf   \n",
       "My line 1             False        0.0  ...       -inf        inf   \n",
       "My line 2             False        0.0  ...       -inf        inf   \n",
       "\n",
       "attribute  sub_network  x_pu  r_pu  g_pu b_pu  x_pu_eff  r_pu_eff  s_nom_opt  \n",
       "Line                                                                          \n",
       "My line 0                0.0   0.0   0.0  0.0       0.0       0.0        0.0  \n",
       "My line 1                0.0   0.0   0.0  0.0       0.0       0.0        0.0  \n",
       "My line 2                0.0   0.0   0.0  0.0       0.0       0.0        0.0  \n",
       "\n",
       "[3 rows x 29 columns]"
      ]
     },
     "execution_count": 4,
     "metadata": {},
     "output_type": "execute_result"
    }
   ],
   "source": [
    "for i in range(n_buses):\n",
    "    network.add(\n",
    "        \"Line\",\n",
    "        \"My line {}\".format(i),\n",
    "        bus0=\"My bus {}\".format(i),\n",
    "        bus1=\"My bus {}\".format((i + 1) % n_buses),\n",
    "        x=0.1,\n",
    "        r=0.01,\n",
    "    )\n",
    "\n",
    "network.lines"
   ]
  },
  {
   "cell_type": "markdown",
   "metadata": {},
   "source": [
    "Add a generator at bus 0"
   ]
  },
  {
   "cell_type": "code",
   "execution_count": 5,
   "metadata": {},
   "outputs": [
    {
     "data": {
      "text/html": [
       "<div>\n",
       "<style scoped>\n",
       "    .dataframe tbody tr th:only-of-type {\n",
       "        vertical-align: middle;\n",
       "    }\n",
       "\n",
       "    .dataframe tbody tr th {\n",
       "        vertical-align: top;\n",
       "    }\n",
       "\n",
       "    .dataframe thead th {\n",
       "        text-align: right;\n",
       "    }\n",
       "</style>\n",
       "<table border=\"1\" class=\"dataframe\">\n",
       "  <thead>\n",
       "    <tr style=\"text-align: right;\">\n",
       "      <th>attribute</th>\n",
       "      <th>bus</th>\n",
       "      <th>control</th>\n",
       "      <th>type</th>\n",
       "      <th>p_nom</th>\n",
       "      <th>p_nom_extendable</th>\n",
       "      <th>p_nom_min</th>\n",
       "      <th>p_nom_max</th>\n",
       "      <th>p_min_pu</th>\n",
       "      <th>p_max_pu</th>\n",
       "      <th>p_set</th>\n",
       "      <th>...</th>\n",
       "      <th>min_up_time</th>\n",
       "      <th>min_down_time</th>\n",
       "      <th>up_time_before</th>\n",
       "      <th>down_time_before</th>\n",
       "      <th>ramp_limit_up</th>\n",
       "      <th>ramp_limit_down</th>\n",
       "      <th>ramp_limit_start_up</th>\n",
       "      <th>ramp_limit_shut_down</th>\n",
       "      <th>weight</th>\n",
       "      <th>p_nom_opt</th>\n",
       "    </tr>\n",
       "    <tr>\n",
       "      <th>Generator</th>\n",
       "      <th></th>\n",
       "      <th></th>\n",
       "      <th></th>\n",
       "      <th></th>\n",
       "      <th></th>\n",
       "      <th></th>\n",
       "      <th></th>\n",
       "      <th></th>\n",
       "      <th></th>\n",
       "      <th></th>\n",
       "      <th></th>\n",
       "      <th></th>\n",
       "      <th></th>\n",
       "      <th></th>\n",
       "      <th></th>\n",
       "      <th></th>\n",
       "      <th></th>\n",
       "      <th></th>\n",
       "      <th></th>\n",
       "      <th></th>\n",
       "      <th></th>\n",
       "    </tr>\n",
       "  </thead>\n",
       "  <tbody>\n",
       "    <tr>\n",
       "      <th>My gen</th>\n",
       "      <td>My bus 0</td>\n",
       "      <td>PQ</td>\n",
       "      <td></td>\n",
       "      <td>0.0</td>\n",
       "      <td>False</td>\n",
       "      <td>0.0</td>\n",
       "      <td>inf</td>\n",
       "      <td>0.0</td>\n",
       "      <td>1.0</td>\n",
       "      <td>100.0</td>\n",
       "      <td>...</td>\n",
       "      <td>0</td>\n",
       "      <td>0</td>\n",
       "      <td>1</td>\n",
       "      <td>0</td>\n",
       "      <td>NaN</td>\n",
       "      <td>NaN</td>\n",
       "      <td>1.0</td>\n",
       "      <td>1.0</td>\n",
       "      <td>1.0</td>\n",
       "      <td>0.0</td>\n",
       "    </tr>\n",
       "  </tbody>\n",
       "</table>\n",
       "<p>1 rows × 33 columns</p>\n",
       "</div>"
      ],
      "text/plain": [
       "attribute       bus control type  p_nom  p_nom_extendable  p_nom_min  \\\n",
       "Generator                                                              \n",
       "My gen     My bus 0      PQ         0.0             False        0.0   \n",
       "\n",
       "attribute  p_nom_max  p_min_pu  p_max_pu  p_set  ...  min_up_time  \\\n",
       "Generator                                        ...                \n",
       "My gen           inf       0.0       1.0  100.0  ...            0   \n",
       "\n",
       "attribute  min_down_time up_time_before  down_time_before  ramp_limit_up  \\\n",
       "Generator                                                                  \n",
       "My gen                 0              1                 0            NaN   \n",
       "\n",
       "attribute  ramp_limit_down  ramp_limit_start_up  ramp_limit_shut_down  weight  \\\n",
       "Generator                                                                       \n",
       "My gen                 NaN                  1.0                   1.0     1.0   \n",
       "\n",
       "attribute  p_nom_opt  \n",
       "Generator             \n",
       "My gen           0.0  \n",
       "\n",
       "[1 rows x 33 columns]"
      ]
     },
     "execution_count": 5,
     "metadata": {},
     "output_type": "execute_result"
    }
   ],
   "source": [
    "network.add(\"Generator\", \"My gen\", bus=\"My bus 0\", p_set=100, control=\"PQ\")\n",
    "\n",
    "network.generators"
   ]
  },
  {
   "cell_type": "code",
   "execution_count": 6,
   "metadata": {},
   "outputs": [
    {
     "data": {
      "text/plain": [
       "Generator\n",
       "My gen    100.0\n",
       "Name: p_set, dtype: float64"
      ]
     },
     "execution_count": 6,
     "metadata": {},
     "output_type": "execute_result"
    }
   ],
   "source": [
    "network.generators.p_set"
   ]
  },
  {
   "cell_type": "markdown",
   "metadata": {},
   "source": [
    "Add a load at bus 1"
   ]
  },
  {
   "cell_type": "code",
   "execution_count": 7,
   "metadata": {},
   "outputs": [
    {
     "data": {
      "text/html": [
       "<div>\n",
       "<style scoped>\n",
       "    .dataframe tbody tr th:only-of-type {\n",
       "        vertical-align: middle;\n",
       "    }\n",
       "\n",
       "    .dataframe tbody tr th {\n",
       "        vertical-align: top;\n",
       "    }\n",
       "\n",
       "    .dataframe thead th {\n",
       "        text-align: right;\n",
       "    }\n",
       "</style>\n",
       "<table border=\"1\" class=\"dataframe\">\n",
       "  <thead>\n",
       "    <tr style=\"text-align: right;\">\n",
       "      <th>attribute</th>\n",
       "      <th>bus</th>\n",
       "      <th>carrier</th>\n",
       "      <th>type</th>\n",
       "      <th>p_set</th>\n",
       "      <th>q_set</th>\n",
       "      <th>sign</th>\n",
       "    </tr>\n",
       "    <tr>\n",
       "      <th>Load</th>\n",
       "      <th></th>\n",
       "      <th></th>\n",
       "      <th></th>\n",
       "      <th></th>\n",
       "      <th></th>\n",
       "      <th></th>\n",
       "    </tr>\n",
       "  </thead>\n",
       "  <tbody>\n",
       "    <tr>\n",
       "      <th>My load</th>\n",
       "      <td>My bus 1</td>\n",
       "      <td></td>\n",
       "      <td></td>\n",
       "      <td>100.0</td>\n",
       "      <td>0.0</td>\n",
       "      <td>-1.0</td>\n",
       "    </tr>\n",
       "  </tbody>\n",
       "</table>\n",
       "</div>"
      ],
      "text/plain": [
       "attribute       bus carrier type  p_set  q_set  sign\n",
       "Load                                                \n",
       "My load    My bus 1               100.0    0.0  -1.0"
      ]
     },
     "execution_count": 7,
     "metadata": {},
     "output_type": "execute_result"
    }
   ],
   "source": [
    "network.add(\"Load\", \"My load\", bus=\"My bus 1\", p_set=100)\n",
    "\n",
    "network.loads"
   ]
  },
  {
   "cell_type": "code",
   "execution_count": 8,
   "metadata": {},
   "outputs": [
    {
     "data": {
      "text/plain": [
       "Load\n",
       "My load    100.0\n",
       "Name: p_set, dtype: float64"
      ]
     },
     "execution_count": 8,
     "metadata": {},
     "output_type": "execute_result"
    }
   ],
   "source": [
    "network.loads.p_set"
   ]
  },
  {
   "cell_type": "markdown",
   "metadata": {},
   "source": [
    "Fix the reactive power of the load"
   ]
  },
  {
   "cell_type": "code",
   "execution_count": 9,
   "metadata": {},
   "outputs": [],
   "source": [
    "network.loads.q_set = 100.0"
   ]
  },
  {
   "cell_type": "markdown",
   "metadata": {},
   "source": [
    "Do a Newton-Raphson power flow"
   ]
  },
  {
   "cell_type": "code",
   "execution_count": 10,
   "metadata": {},
   "outputs": [
    {
     "name": "stderr",
     "output_type": "stream",
     "text": [
      "INFO:pypsa.pf:Performing non-linear load-flow on AC sub-network SubNetwork 0 for snapshots Index(['now'], dtype='object', name='snapshot')\n"
     ]
    },
    {
     "name": "stdout",
     "output_type": "stream",
     "text": [
      "  (0, 1)\t-3960.39603960396\n",
      "  (0, 0)\t7920.79207920792\n",
      "  (0, 2)\t792.0792079207921\n",
      "  (0, 3)\t-396.03960396039605\n",
      "  (1, 1)\t7920.79207920792\n",
      "  (1, 0)\t-3960.39603960396\n",
      "  (1, 2)\t-396.03960396039605\n",
      "  (1, 3)\t792.0792079207921\n",
      "  (2, 1)\t396.03960396039605\n",
      "  (2, 0)\t-792.0792079207921\n",
      "  (2, 2)\t7920.79207920792\n",
      "  (2, 3)\t-3960.39603960396\n",
      "  (3, 1)\t-792.0792079207921\n",
      "  (3, 0)\t396.03960396039605\n",
      "  (3, 2)\t-3960.39603960396\n",
      "  (3, 3)\t7920.79207920792\n",
      "[100.   0. 100.   0.]\n",
      "[0.01591467 0.00863168 0.01820746 0.00903629]\n",
      "  (0, 1)\t-3850.243192815965\n",
      "  (0, 0)\t7731.850282621056\n",
      "  (0, 3)\t-417.1364958104999\n",
      "  (0, 2)\t675.2666844182515\n",
      "  (1, 1)\t7776.930612918137\n",
      "  (1, 0)\t-3855.8556302332827\n",
      "  (1, 2)\t-363.86786212649656\n",
      "  (1, 3)\t779.133847278236\n",
      "  (2, 1)\t413.3671282390518\n",
      "  (2, 0)\t-864.0247974141528\n",
      "  (2, 3)\t-3885.3523750458494\n",
      "  (2, 2)\t7677.910875621287\n",
      "  (3, 1)\t-783.5645650388358\n",
      "  (3, 0)\t357.242754065873\n",
      "  (3, 2)\t-3927.362917437067\n",
      "  (3, 3)\t7850.588914601586\n",
      "[-0.52650069 -5.73559972  3.13268458  1.35904026]\n",
      "[-0.0006258  -0.00106003  0.00061303  0.00040869]\n",
      "  (0, 1)\t-3846.0725459375394\n",
      "  (0, 0)\t7725.537058491759\n",
      "  (0, 3)\t-418.5620740101381\n",
      "  (0, 2)\t675.2412879909355\n",
      "  (1, 1)\t7771.920847415034\n",
      "  (1, 0)\t-3852.013438947161\n",
      "  (1, 2)\t-362.01309587649615\n",
      "  (1, 3)\t784.5946785306758\n",
      "  (2, 1)\t414.60876429234287\n",
      "  (2, 0)\t-862.5573651902845\n",
      "  (2, 3)\t-3882.7449882028445\n",
      "  (2, 2)\t7669.713515255298\n",
      "  (3, 1)\t-777.1908522303073\n",
      "  (3, 0)\t355.19983419612737\n",
      "  (3, 2)\t-3925.9007920064346\n",
      "  (3, 3)\t7845.934342674402\n",
      "[-0.01222253 -0.00332672 -0.08563188 -0.04559228]\n",
      "[-6.53128105e-07  0.00000000e+00 -1.89407150e-05 -1.52085544e-05]\n",
      "  (0, 1)\t-3846.2061135022814\n",
      "  (0, 0)\t7725.745807913598\n",
      "  (0, 3)\t-418.5676179644464\n",
      "  (0, 2)\t675.2699478460918\n",
      "  (1, 1)\t7772.114302644727\n",
      "  (1, 0)\t-3852.1467096096676\n",
      "  (1, 2)\t-362.02121822482366\n",
      "  (1, 3)\t784.6093092275997\n",
      "  (2, 1)\t414.62062169253096\n",
      "  (2, 0)\t-862.5753359656709\n",
      "  (2, 3)\t-3882.8202141927904\n",
      "  (2, 2)\t7669.952808394174\n",
      "  (3, 1)\t-777.2121577208756\n",
      "  (3, 0)\t355.214660618664\n",
      "  (3, 2)\t-3925.960832148052\n",
      "  (3, 3)\t7846.100436090504\n",
      "[-7.52638042e-04 -7.66820595e-04  2.53626918e-05 -3.93641923e-04]\n",
      "[-2.10671556e-07 -2.10671556e-07 -5.23949983e-08 -8.62334347e-08]\n"
     ]
    },
    {
     "name": "stderr",
     "output_type": "stream",
     "text": [
      "INFO:pypsa.pf:Newton-Raphson solved in 5 iterations with error of 0.000001 in 26.349285 seconds\n"
     ]
    },
    {
     "name": "stdout",
     "output_type": "stream",
     "text": [
      "  (0, 1)\t-3846.206653714712\n",
      "  (0, 0)\t7725.746649660733\n",
      "  (0, 3)\t-418.5676403155309\n",
      "  (0, 2)\t675.2708270316995\n",
      "  (1, 1)\t7772.1152738445035\n",
      "  (1, 0)\t-3852.147250656475\n",
      "  (1, 2)\t-362.0212497403407\n",
      "  (1, 3)\t784.6102603735104\n",
      "  (2, 1)\t414.6206799273752\n",
      "  (2, 0)\t-862.5746008121245\n",
      "  (2, 3)\t-3882.8204215314354\n",
      "  (2, 2)\t7669.953200989542\n",
      "  (3, 1)\t-777.2114185229153\n",
      "  (3, 0)\t355.2147105097436\n",
      "  (3, 2)\t-3925.961173919968\n",
      "  (3, 3)\t7846.101504756735\n",
      "[ 6.39569191e-05  1.07696616e-04 -1.97029766e-06 -1.16491940e-05]\n",
      "[2.02772441e-08 2.39967386e-08 9.59869542e-10 4.79934771e-10]\n"
     ]
    },
    {
     "data": {
      "text/plain": [
       "{'n_iter': SubNetwork  0\n",
       " snapshot     \n",
       " now         5,\n",
       " 'error': SubNetwork             0\n",
       " snapshot                \n",
       " now         8.508025e-07,\n",
       " 'converged': SubNetwork     0\n",
       " snapshot        \n",
       " now         True}"
      ]
     },
     "execution_count": 10,
     "metadata": {},
     "output_type": "execute_result"
    }
   ],
   "source": [
    "from qalcore.dwave.qubols.encodings import RealQbitEncoding, RealUnitQbitEncoding, EfficientEncoding\n",
    "quantum_solver='qubo'\n",
    "quantum_solver_options = {'num_reads':100, 'num_qbits':21, 'encoding':EfficientEncoding}\n",
    "# network.pf()\n",
    "network.pf(x_tol=1E-6, quantum_solver=quantum_solver, quantum_solver_options=quantum_solver_options)"
   ]
  },
  {
   "cell_type": "code",
   "execution_count": 11,
   "metadata": {},
   "outputs": [],
   "source": [
    "from sympy.matrices import Matrix, SparseMatrix"
   ]
  },
  {
   "cell_type": "code",
   "execution_count": 12,
   "metadata": {},
   "outputs": [],
   "source": [
    "import scipy.sparse as spsp "
   ]
  },
  {
   "cell_type": "code",
   "execution_count": 13,
   "metadata": {},
   "outputs": [
    {
     "name": "stdout",
     "output_type": "stream",
     "text": [
      "  (0, 0)\t1.220157568493924\n",
      "  (1, 0)\t1.2001028347032583\n",
      "  (2, 0)\t1.0981924683541506\n",
      "  (3, 0)\t1.7257084212690954\n",
      "  (0, 1)\t1.2001028347032583\n",
      "  (1, 1)\t0.5007292282327223\n",
      "  (2, 1)\t1.3145837378651946\n",
      "  (3, 1)\t1.2648822869299634\n",
      "  (0, 2)\t1.0981924683541506\n",
      "  (1, 2)\t1.3145837378651946\n",
      "  (2, 2)\t0.38335116920405454\n",
      "  (3, 2)\t1.2120535167374336\n",
      "  (0, 3)\t1.7257084212690954\n",
      "  (1, 3)\t1.2648822869299634\n",
      "  (2, 3)\t1.2120535167374336\n",
      "  (3, 3)\t1.894280668672564\n"
     ]
    },
    {
     "data": {
      "text/latex": [
       "$\\displaystyle \\left[\\begin{matrix}1.22015756849392 & 1.20010283470326 & 1.09819246835415 & 1.7257084212691\\\\1.20010283470326 & 0.500729228232722 & 1.31458373786519 & 1.26488228692996\\\\1.09819246835415 & 1.31458373786519 & 0.383351169204055 & 1.21205351673743\\\\1.7257084212691 & 1.26488228692996 & 1.21205351673743 & 1.89428066867256\\end{matrix}\\right]$"
      ],
      "text/plain": [
       "Matrix([\n",
       "[1.22015756849392,  1.20010283470326,  1.09819246835415,  1.7257084212691],\n",
       "[1.20010283470326, 0.500729228232722,  1.31458373786519, 1.26488228692996],\n",
       "[1.09819246835415,  1.31458373786519, 0.383351169204055, 1.21205351673743],\n",
       "[ 1.7257084212691,  1.26488228692996,  1.21205351673743, 1.89428066867256]])"
      ]
     },
     "execution_count": 13,
     "metadata": {},
     "output_type": "execute_result"
    }
   ],
   "source": [
    "A = np.random.rand(4,4)\n",
    "A += A.T \n",
    "\n",
    "Asp = spsp.csc_matrix(A)\n",
    "print(Asp)\n",
    "\n",
    "SparseMatrix(4,4, dict(Asp.todok().items()))"
   ]
  },
  {
   "cell_type": "code",
   "execution_count": 14,
   "metadata": {},
   "outputs": [
    {
     "data": {
      "text/plain": [
       "(4, 4)"
      ]
     },
     "execution_count": 14,
     "metadata": {},
     "output_type": "execute_result"
    }
   ],
   "source": [
    "Asp.shape"
   ]
  },
  {
   "cell_type": "code",
   "execution_count": 15,
   "metadata": {},
   "outputs": [
    {
     "ename": "NameError",
     "evalue": "name 'Acoo' is not defined",
     "output_type": "error",
     "traceback": [
      "\u001b[0;31m---------------------------------------------------------------------------\u001b[0m",
      "\u001b[0;31mNameError\u001b[0m                                 Traceback (most recent call last)",
      "\u001b[1;32m/home/nico/QuantumPowerFlow/PyPSA/examples/notebooks/minimal_example_pf.ipynb Cell 22\u001b[0m line \u001b[0;36m1\n\u001b[0;32m----> <a href='vscode-notebook-cell:/home/nico/QuantumPowerFlow/PyPSA/examples/notebooks/minimal_example_pf.ipynb#X41sZmlsZQ%3D%3D?line=0'>1</a>\u001b[0m \u001b[39mdict\u001b[39m(Acoo\u001b[39m.\u001b[39mtodok()\u001b[39m.\u001b[39mitems())\n",
      "\u001b[0;31mNameError\u001b[0m: name 'Acoo' is not defined"
     ]
    }
   ],
   "source": [
    "dict(Acoo.todok().items())"
   ]
  },
  {
   "cell_type": "markdown",
   "metadata": {},
   "source": [
    "Alright, it converged! Now, what is the active power flow on the lines?"
   ]
  },
  {
   "cell_type": "code",
   "execution_count": null,
   "metadata": {},
   "outputs": [
    {
     "data": {
      "text/html": [
       "<div>\n",
       "<style scoped>\n",
       "    .dataframe tbody tr th:only-of-type {\n",
       "        vertical-align: middle;\n",
       "    }\n",
       "\n",
       "    .dataframe tbody tr th {\n",
       "        vertical-align: top;\n",
       "    }\n",
       "\n",
       "    .dataframe thead th {\n",
       "        text-align: right;\n",
       "    }\n",
       "</style>\n",
       "<table border=\"1\" class=\"dataframe\">\n",
       "  <thead>\n",
       "    <tr style=\"text-align: right;\">\n",
       "      <th></th>\n",
       "      <th>My line 0</th>\n",
       "      <th>My line 1</th>\n",
       "      <th>My line 2</th>\n",
       "    </tr>\n",
       "    <tr>\n",
       "      <th>snapshot</th>\n",
       "      <th></th>\n",
       "      <th></th>\n",
       "      <th></th>\n",
       "    </tr>\n",
       "  </thead>\n",
       "  <tbody>\n",
       "    <tr>\n",
       "      <th>now</th>\n",
       "      <td>66.897487</td>\n",
       "      <td>-33.333333</td>\n",
       "      <td>-33.391038</td>\n",
       "    </tr>\n",
       "  </tbody>\n",
       "</table>\n",
       "</div>"
      ],
      "text/plain": [
       "          My line 0  My line 1  My line 2\n",
       "snapshot                                 \n",
       "now       66.897487 -33.333333 -33.391038"
      ]
     },
     "execution_count": 11,
     "metadata": {},
     "output_type": "execute_result"
    }
   ],
   "source": [
    "network.lines_t.p0"
   ]
  },
  {
   "cell_type": "markdown",
   "metadata": {},
   "source": [
    "...and what are the voltage angles on the buses?"
   ]
  },
  {
   "cell_type": "code",
   "execution_count": null,
   "metadata": {},
   "outputs": [
    {
     "data": {
      "text/html": [
       "<div>\n",
       "<style scoped>\n",
       "    .dataframe tbody tr th:only-of-type {\n",
       "        vertical-align: middle;\n",
       "    }\n",
       "\n",
       "    .dataframe tbody tr th {\n",
       "        vertical-align: top;\n",
       "    }\n",
       "\n",
       "    .dataframe thead th {\n",
       "        text-align: right;\n",
       "    }\n",
       "</style>\n",
       "<table border=\"1\" class=\"dataframe\">\n",
       "  <thead>\n",
       "    <tr style=\"text-align: right;\">\n",
       "      <th>Bus</th>\n",
       "      <th>My bus 0</th>\n",
       "      <th>My bus 1</th>\n",
       "      <th>My bus 2</th>\n",
       "    </tr>\n",
       "    <tr>\n",
       "      <th>snapshot</th>\n",
       "      <th></th>\n",
       "      <th></th>\n",
       "      <th></th>\n",
       "    </tr>\n",
       "  </thead>\n",
       "  <tbody>\n",
       "    <tr>\n",
       "      <th>now</th>\n",
       "      <td>0.0</td>\n",
       "      <td>-0.875939</td>\n",
       "      <td>-0.433813</td>\n",
       "    </tr>\n",
       "  </tbody>\n",
       "</table>\n",
       "</div>"
      ],
      "text/plain": [
       "Bus       My bus 0  My bus 1  My bus 2\n",
       "snapshot                              \n",
       "now            0.0 -0.875939 -0.433813"
      ]
     },
     "execution_count": 12,
     "metadata": {},
     "output_type": "execute_result"
    }
   ],
   "source": [
    "network.buses_t.v_ang * 180 / np.pi"
   ]
  },
  {
   "cell_type": "markdown",
   "metadata": {},
   "source": [
    "...and their mangitudes?"
   ]
  },
  {
   "cell_type": "code",
   "execution_count": null,
   "metadata": {},
   "outputs": [
    {
     "data": {
      "text/html": [
       "<div>\n",
       "<style scoped>\n",
       "    .dataframe tbody tr th:only-of-type {\n",
       "        vertical-align: middle;\n",
       "    }\n",
       "\n",
       "    .dataframe tbody tr th {\n",
       "        vertical-align: top;\n",
       "    }\n",
       "\n",
       "    .dataframe thead th {\n",
       "        text-align: right;\n",
       "    }\n",
       "</style>\n",
       "<table border=\"1\" class=\"dataframe\">\n",
       "  <thead>\n",
       "    <tr style=\"text-align: right;\">\n",
       "      <th>Bus</th>\n",
       "      <th>My bus 0</th>\n",
       "      <th>My bus 1</th>\n",
       "      <th>My bus 2</th>\n",
       "    </tr>\n",
       "    <tr>\n",
       "      <th>snapshot</th>\n",
       "      <th></th>\n",
       "      <th></th>\n",
       "      <th></th>\n",
       "    </tr>\n",
       "  </thead>\n",
       "  <tbody>\n",
       "    <tr>\n",
       "      <th>now</th>\n",
       "      <td>1.0</td>\n",
       "      <td>0.981199</td>\n",
       "      <td>0.99057</td>\n",
       "    </tr>\n",
       "  </tbody>\n",
       "</table>\n",
       "</div>"
      ],
      "text/plain": [
       "Bus       My bus 0  My bus 1  My bus 2\n",
       "snapshot                              \n",
       "now            1.0  0.981199   0.99057"
      ]
     },
     "execution_count": 13,
     "metadata": {},
     "output_type": "execute_result"
    }
   ],
   "source": [
    "network.buses_t.v_mag_pu"
   ]
  }
 ],
 "metadata": {
  "@webio": {
   "lastCommId": null,
   "lastKernelId": null
  },
  "kernelspec": {
   "display_name": "alliander_powerflow",
   "language": "python",
   "name": "python3"
  },
  "language_info": {
   "codemirror_mode": {
    "name": "ipython",
    "version": 3
   },
   "file_extension": ".py",
   "mimetype": "text/x-python",
   "name": "python",
   "nbconvert_exporter": "python",
   "pygments_lexer": "ipython3",
   "version": "3.9.18"
  }
 },
 "nbformat": 4,
 "nbformat_minor": 1
}
